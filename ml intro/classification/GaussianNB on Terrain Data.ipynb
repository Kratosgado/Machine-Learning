{
 "cells": [
  {
   "cell_type": "code",
   "execution_count": 1,
   "metadata": {},
   "outputs": [],
   "source": [
    "'''\n",
    "function to train GaussianNB classifier\n",
    "'''\n",
    "def classify(features_train, labels_train):\n",
    "    from sklearn.naive_bayes import GaussianNB\n",
    "    clf = GaussianNB()\n",
    "    clf.fit(features_train, labels_train)\n",
    "    return clf "
   ]
  },
  {
   "cell_type": "markdown",
   "metadata": {},
   "source": [
    "generate data"
   ]
  },
  {
   "cell_type": "code",
   "execution_count": 2,
   "metadata": {},
   "outputs": [],
   "source": [
    "import random\n",
    "\n",
    "def makeTerrainData(n_points=1000):\n",
    "      random.seed(42)\n",
    "      grade = [random.random() for ii in range(0,n_points)]\n",
    "      bumpy = [random.random() for ii in range(0,n_points)]\n",
    "      error = [random.random() for ii in range(0,n_points)]\n",
    "      \n",
    "      y = [round(grade[ii]*bumpy[ii]+0.3+0.1*error[ii]) for ii in range(0,n_points)]\n",
    "      \n",
    "      for ii in range(0, len(y)):\n",
    "         if grade[ii]>0.8 or bumpy[ii]>0.8:\n",
    "               y[ii] = 1.0\n",
    "      \n",
    "      # split into train/test sets\n",
    "      x = [[gg, ss] for gg, ss in zip(grade, bumpy)]\n",
    "      split = int(0.75*n_points)\n",
    "      x_train = x[0:split]\n",
    "      x_test = x[split:]\n",
    "      y_train = y[0:split]\n",
    "      y_test = y[split:]\n",
    "\n",
    "      grade_sig = [x_train[ii][0] for ii in range(0, len(x_train)) if y_train[ii]==0]\n",
    "      bumpy_sig = [x_train[ii][1] for ii in range(0, len(x_train)) if y_train[ii]==0]\n",
    "      grade_bkg = [x_train[ii][0] for ii in range(0, len(x_train)) if y_train[ii]==1]\n",
    "      bumpy_bkg = [x_train[ii][1] for ii in range(0, len(x_train)) if y_train[ii]==1]\n",
    "\n",
    "      training_data = {\"fast\":{\"grade\":grade_sig, \"bumpiness\":bumpy_sig}\n",
    "            , \"slow\":{\"grade\":grade_bkg, \"bumpiness\":bumpy_bkg}}\n",
    "      \n",
    "      grade_sig = [x_test[ii][0] for ii in range(0, len(x_test)) if y_test[ii]==0]\n",
    "      bumpy_sig = [x_test[ii][1] for ii in range(0, len(x_test)) if y_test[ii]==0]\n",
    "      grade_bkg = [x_test[ii][0] for ii in range(0, len(x_test)) if y_test[ii]==1]\n",
    "      bumpy_bkg = [x_test[ii][1] for ii in range(0, len(x_test)) if y_test[ii]==1]\n",
    "\n",
    "      test_data = {\"fast\":{\"grade\":grade_sig, \"bumpiness\":bumpy_sig}\n",
    "            , \"slow\":{\"grade\":grade_bkg, \"bumpiness\":bumpy_bkg}}\n",
    "      \n",
    "\n",
    "      return x_train, y_train, x_test, y_test\n",
    "      #return training_data, test_data"
   ]
  },
  {
   "cell_type": "markdown",
   "metadata": {},
   "source": [
    "classification visualizer"
   ]
  },
  {
   "cell_type": "code",
   "execution_count": 7,
   "metadata": {},
   "outputs": [],
   "source": [
    "# from udacityplots import *\n",
    "import warnings\n",
    "warnings.filterwarnings(\"ignore\")\n",
    "\n",
    "import matplotlib\n",
    "matplotlib.use('agg')\n",
    "\n",
    "import matplotlib.pyplot as plt\n",
    "import pylab as pl\n",
    "import numpy as np\n",
    "\n",
    "# import numpy as np\n",
    "# import matplotlib.pyplot as plt\n",
    "# plt.ioff()\n",
    "\n",
    "def prettyPicture(clf, x_test, y_test):\n",
    "   x_min = 0.0; x_max = 1.0\n",
    "   y_min = 0.0; y_max = 1.0\n",
    "\n",
    "   # Plot the decision boundary. for that, we will assign a color to each\n",
    "   # pount in the mesh [x_min, x_max]x[y_min, y_max]\n",
    "   h = .01\n",
    "   xx, yy = np.meshgrid(np.arange(x_min, x_max, h), np.arange(y_min, y_max, h))\n",
    "   z = clf.predict(np.c_[xx.ravel(), yy.ravel()])\n",
    "\n",
    "   # Put the result into a color plot\n",
    "   z = z.reshape(xx.shape)\n",
    "   plt.xlim(xx.min(), xx.max())\n",
    "   plt.ylim(yy.min(), yy.max())\n",
    "\n",
    "   plt.pcolormesh(xx, yy, z, cmap=pl.cm.seismic)\n",
    "\n",
    "   # plot also the test points\n",
    "   grade_sig = [x_test[ii][0] for ii in range(0, len(x_test)) if y_test[ii]==0]\n",
    "   bumpy_sig = [x_test[ii][1] for ii in range(0, len(x_test)) if y_test[ii]==0]\n",
    "   grade_bkg = [x_test[ii][0] for ii in range(0, len(x_test)) if y_test[ii]==1]\n",
    "   bumpy_bkg = [x_test[ii][1] for ii in range(0, len(x_test)) if y_test[ii]==1]\n",
    "\n",
    "   plt.scatter(grade_sig, bumpy_sig, color = \"b\", label = \"fast\")\n",
    "   plt.scatter(grade_bkg, bumpy_bkg, color=\"r\", label = \"slow\")\n",
    "   plt.legend()\n",
    "   plt.xlabel(\"bumpiness\")\n",
    "   plt.ylabel(\"grade\")\n",
    "   plt.savefig(\"test.png\")\n",
    "\n",
    "import base64\n",
    "import json\n",
    "import subprocess\n",
    "\n",
    "def outputImage(name, format, bytes):\n",
    "   image_start = \"BEGIN_IMAGE_f9825uweof8jw9fj4r8\"\n",
    "   image_end = \"END_IMAGE_0238jfw08fjsiufhw8frs\"\n",
    "   data = {}\n",
    "   data['name'] = name\n",
    "   data['format'] = format\n",
    "   data['bytes'] = base64.encode(bytes)\n",
    "   print (image_start+json.dumps(data)+image_end)\n"
   ]
  },
  {
   "cell_type": "markdown",
   "metadata": {},
   "source": [
    "run the codes"
   ]
  },
  {
   "cell_type": "code",
   "execution_count": 8,
   "metadata": {},
   "outputs": [],
   "source": [
    "features_train, labels_train, features_test, labels_test = makeTerrainData()\n",
    "\n",
    "### the training data (features_train, labels_train) have both \"fast\" and \"slow\" points mixed\n",
    "### in together--separate them so we can give them different colors in the scatterplot,\n",
    "### and visually identify them\n",
    "grade_fast = [features_train[ii][0] for ii in range(0, len(features_train)) if labels_train[ii]==0]\n",
    "bumpy_fast = [features_train[ii][1] for ii in range(0, len(features_train)) if labels_train[ii]==0]\n",
    "grade_slow = [features_train[ii][0] for ii in range(0, len(features_train)) if labels_train[ii]==1]\n",
    "bumpy_slow = [features_train[ii][1] for ii in range(0, len(features_train)) if labels_train[ii]==1]\n",
    "\n",
    "clf = classify(features_train, labels_train)"
   ]
  },
  {
   "cell_type": "markdown",
   "metadata": {},
   "source": [
    "draw the decision boundary\n"
   ]
  },
  {
   "cell_type": "code",
   "execution_count": 10,
   "metadata": {},
   "outputs": [],
   "source": [
    "prettyPicture(clf, features_test, labels_test)\n",
    "# outputImage(\"test.png\", \"png\", open(\"test.png\", \"rb\").read())"
   ]
  },
  {
   "cell_type": "code",
   "execution_count": null,
   "metadata": {},
   "outputs": [],
   "source": []
  }
 ],
 "metadata": {
  "kernelspec": {
   "display_name": "base",
   "language": "python",
   "name": "python3"
  },
  "language_info": {
   "codemirror_mode": {
    "name": "ipython",
    "version": 3
   },
   "file_extension": ".py",
   "mimetype": "text/x-python",
   "name": "python",
   "nbconvert_exporter": "python",
   "pygments_lexer": "ipython3",
   "version": "3.11.5"
  }
 },
 "nbformat": 4,
 "nbformat_minor": 2
}
